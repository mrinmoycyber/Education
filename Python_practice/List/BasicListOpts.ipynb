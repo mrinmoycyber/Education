{
  "nbformat": 4,
  "nbformat_minor": 0,
  "metadata": {
    "colab": {
      "provenance": []
    },
    "kernelspec": {
      "name": "python3",
      "display_name": "Python 3"
    },
    "language_info": {
      "name": "python"
    }
  },
  "cells": [
    {
      "cell_type": "code",
      "execution_count": null,
      "metadata": {
        "id": "SaLHo09Y4IXo",
        "colab": {
          "base_uri": "https://localhost:8080/"
        },
        "outputId": "557fbff3-21b9-483a-8d4a-6548c077b533"
      },
      "outputs": [
        {
          "output_type": "stream",
          "name": "stdout",
          "text": [
            "[5, 4, 3, 2, '1']\n"
          ]
        }
      ],
      "source": [
        "#Write a Python function to reverse a list.\n",
        "def reverse_lst():\n",
        "  return lst[::-1]\n",
        "\n",
        "lst = [1,2,3,4,5]\n",
        "print(reverse_lst())"
      ]
    },
    {
      "cell_type": "code",
      "source": [
        "# Write a Python function to find the largest element in a list.\n",
        "def max_num():\n",
        "  return max(lst)\n",
        "\n",
        "lst = [5,7,10,999,65]\n",
        "print(max_num())"
      ],
      "metadata": {
        "colab": {
          "base_uri": "https://localhost:8080/"
        },
        "id": "P4BfO57w4Qlo",
        "outputId": "cb27d1ae-525a-48fe-cbd6-8a94ce19e786"
      },
      "execution_count": null,
      "outputs": [
        {
          "output_type": "stream",
          "name": "stdout",
          "text": [
            "999\n"
          ]
        }
      ]
    },
    {
      "cell_type": "code",
      "source": [
        "# Remove Duplicates from a list\n",
        "# When you convert the list to a dictionary using dict.fromkeys(lst),\n",
        "# the dictionary will have only unique keys (since dictionaries don't allow duplicate keys)\n",
        "# while maintaining the order of the first appearance of each element.\n",
        "def rmv_duplicates(lst):\n",
        "    return list(dict.fromkeys(lst))\n",
        "\n",
        "# Test the function\n",
        "lst = [1, 1, 2, 2, 3, 3, 4, 4, 5, 5]\n",
        "print(rmv_duplicates(lst))"
      ],
      "metadata": {
        "colab": {
          "base_uri": "https://localhost:8080/"
        },
        "id": "j6Tg2Ju6E5qZ",
        "outputId": "a8b92048-25b2-40d8-ad28-eed55eec259c"
      },
      "execution_count": null,
      "outputs": [
        {
          "output_type": "stream",
          "name": "stdout",
          "text": [
            "[1, 2, 3, 4, 5]\n"
          ]
        }
      ]
    },
    {
      "cell_type": "code",
      "source": [
        "# A set in Python is a collection type that automatically removes duplicates\n",
        "# because sets only store unique elements.\n",
        "# list may have a different order compared to the original list\n",
        "# since sets don't preserve the order of elements.\n",
        "\n",
        "def remove_dup(lst):\n",
        "  return list(set(lst))\n",
        "\n",
        "lst = [1, 1, 2, 2, 3, 3, 4, 4, 5, 5]\n",
        "print(remove_dup(lst))"
      ],
      "metadata": {
        "colab": {
          "base_uri": "https://localhost:8080/"
        },
        "id": "cgra8WsIGg1b",
        "outputId": "97ac3ced-7ef6-4530-c32b-bb6b480b4b04"
      },
      "execution_count": null,
      "outputs": [
        {
          "output_type": "stream",
          "name": "stdout",
          "text": [
            "[1, 2, 3, 4, 5]\n"
          ]
        }
      ]
    },
    {
      "cell_type": "code",
      "source": [
        "#Rotate a list\n",
        "\n",
        "# Step - 1: rotate_list take two parameters-\n",
        "# lst: the list we want to rotate\n",
        "# steps: the number of steps to rotate the list\n",
        "\n",
        "# Step -2: it will calculates the effective number of steps to rotate by using the modulus operator\n",
        "# if steps is greater than the length of the list, the modulus operation will reduce the number of steps to a manageable value.\n",
        "\n",
        "#Step -3: the function returns the concatenation of two slices [4, 5] and [1, 2, 3]\n",
        "#lst[-steps:] - it will take the last two numbers. [4,5]\n",
        "#lst[:-steps] - it will retrieves all elements except the last two, which are [1,2,3]\n",
        "\n",
        "def rotate_list(lst, steps):\n",
        "  steps %= len(lst)\n",
        "  return lst[-steps:] + lst[:-steps]\n",
        "\n",
        "lst = [1, 2, 3, 4, 5]\n",
        "print(rotate_list(lst, 2))\n",
        "\n",
        "#steps logic\n",
        "# If steps is less than the length, it remains unchanged.\n",
        "# If steps is greater than the length, it wraps around, effectively calculating how many actual rotations are needed.\n",
        "# If steps equals the length, it becomes 0, indicating no rotation is necessary.\n"
      ],
      "metadata": {
        "colab": {
          "base_uri": "https://localhost:8080/"
        },
        "id": "ep6uEbf_GsiY",
        "outputId": "94400b97-203d-4561-ff8c-f95496ecdd6d"
      },
      "execution_count": null,
      "outputs": [
        {
          "output_type": "stream",
          "name": "stdout",
          "text": [
            "[4, 5, 1, 2, 3]\n"
          ]
        }
      ]
    },
    {
      "cell_type": "code",
      "source": [
        "lst = [1, 2, 3, 4, 5, 7, 9, 10]\n",
        "print(lst[-2:])"
      ],
      "metadata": {
        "colab": {
          "base_uri": "https://localhost:8080/"
        },
        "id": "-zLUBGdxSK7O",
        "outputId": "c400e701-cdf3-42a1-f1f5-e4e4fb95fba0"
      },
      "execution_count": null,
      "outputs": [
        {
          "output_type": "stream",
          "name": "stdout",
          "text": [
            "[9, 10]\n"
          ]
        }
      ]
    },
    {
      "cell_type": "code",
      "source": [
        "lst = [1, 2, 3, 4, 5, 7, 9, 10]\n",
        "print(lst[:-2])"
      ],
      "metadata": {
        "colab": {
          "base_uri": "https://localhost:8080/"
        },
        "id": "U0TGS8YaSPsy",
        "outputId": "149833f1-17b0-4657-ff9c-28cab4ce0d50"
      },
      "execution_count": null,
      "outputs": [
        {
          "output_type": "stream",
          "name": "stdout",
          "text": [
            "[1, 2, 3, 4, 5, 7]\n"
          ]
        }
      ]
    },
    {
      "cell_type": "code",
      "source": [
        "def rotate_list(lst, steps):\n",
        "    # Calculate the effective number of steps\n",
        "    steps %= len(lst)\n",
        "    rotated_list_first = lst[-steps:]\n",
        "    rotated_list_last = lst[:-steps][::-1]\n",
        "    return rotated_list_first + rotated_list_last\n",
        "\n",
        "lst = [1, 2, 3, 4, 5]\n",
        "print(rotate_list(lst, 2))  # Output: [4, 5, 3, 2, 1]\n"
      ],
      "metadata": {
        "colab": {
          "base_uri": "https://localhost:8080/"
        },
        "id": "4CgfDpMISSf_",
        "outputId": "671b39f0-3d1d-4391-d292-cea921b2665f"
      },
      "execution_count": null,
      "outputs": [
        {
          "output_type": "stream",
          "name": "stdout",
          "text": [
            "[4, 5, 3, 2, 1]\n"
          ]
        }
      ]
    },
    {
      "cell_type": "code",
      "source": [
        "# Merged two sorted lists\n",
        "def merged_sorted_list(lst1, lst2):\n",
        "  return sorted(lst1 + lst2)\n",
        "\n",
        "lst1 = [1,2,3]\n",
        "lst2 = [4,5,6]\n",
        "print(merged_sorted_list(lst1, lst2))"
      ],
      "metadata": {
        "id": "m6qIkonrYamH",
        "colab": {
          "base_uri": "https://localhost:8080/"
        },
        "outputId": "48eeb772-7d88-49e1-c305-8e9022206530"
      },
      "execution_count": null,
      "outputs": [
        {
          "output_type": "stream",
          "name": "stdout",
          "text": [
            "[1, 2, 3, 4, 5, 6]\n"
          ]
        }
      ]
    },
    {
      "cell_type": "code",
      "source": [
        "# Merged two lists using Bubble Sort\n",
        "\"\"\"\n",
        "Step 1: Define a function (bubble_sort) that takes a list as an argument\n",
        "Step 2: Determine length of list - calculate the length of the list lst and stores it in varaible n.\n",
        "        it will control how many times we need to iterate through the lsit.\n",
        "Step 3: Outer loop - Each iteration represents a pass through the list.\n",
        "Step 4: inner loop - The range for this loop decreases with each outer loop iteration because\n",
        "        the largest elements \"bubble up\" to the end of the list after each pass, so we don’t need to\n",
        "        compare them again.\n",
        "Step 5: Comparison and swap - if lst[j] > lst[j+1]: checks if the current element (lst[j]) is greater than\n",
        "        the next element (lst[j+1]).\n",
        "        lst[j], lst[j+1] = lst[j+1], lst[j] swaps the two elements if the condition is true,\n",
        "        placing the larger element at the end of the list.\n",
        "Step 6: Return the sorted list - return lst\n",
        "Step 7: Merging list - defines a function that takes two list called merged_lsit\n",
        "Step 8: Sorting the Merged list - calls the bubble_sort function to sort merged_list and stores\n",
        "        the result in sorted_list.\n",
        "\"\"\"\n",
        "def bubble_sort(lst):\n",
        "  n = len(lst)\n",
        "  for i in range(n):\n",
        "    for j in range(0, n-i-1):\n",
        "      # Swap if the element found is greater\n",
        "      if lst[j] > lst[j+1]:\n",
        "        lst[j], lst[j+1] = lst[j+1], lst[j]\n",
        "  return lst\n",
        "\n",
        "def merged_sorted_list(lst1, lst2):\n",
        "  merged_list = lst1 + lst2\n",
        "  sorted_list = bubble_sort(merged_list)\n",
        "  return sorted_list\n",
        "\n",
        "lst1 = [1,2,3]\n",
        "lst2 = [4,5,6]\n",
        "print(merged_sorted_list(lst1, lst2))"
      ],
      "metadata": {
        "colab": {
          "base_uri": "https://localhost:8080/"
        },
        "id": "O5vBZTmZq01N",
        "outputId": "41d6e386-62c7-4462-82e8-fd3fe80bde42"
      },
      "execution_count": null,
      "outputs": [
        {
          "output_type": "stream",
          "name": "stdout",
          "text": [
            "[1, 2, 3, 4, 5, 6]\n"
          ]
        }
      ]
    },
    {
      "cell_type": "markdown",
      "source": [
        "'-inf' (negative infinity) is a special value in Python that represents a number smaller than any other real number. It's part of the floating-point standard (IEEE 754) used in most programming languages, including Python.\n",
        "\n",
        "In Python, negative infinity is created using float('-inf'). It is useful in cases where you need a starting value that is guaranteed to be smaller than any number that will be encountered later in the program."
      ],
      "metadata": {
        "id": "wtDFOA8OskPY"
      }
    },
    {
      "cell_type": "code",
      "source": [
        "#Find second largest element\n",
        "def second_largest_num(lst):\n",
        "  \"\"\"\n",
        "  Step 1: First check that at leaste two numbers are in the list\n",
        "  Step 2: Declare first and second variables and set them to negative infinity.\n",
        "  Step 3: Iterate through the list to find the second largest number and\n",
        "          update the first and second largest values\n",
        "  Step 4: Avoid duplicates values being treated as both first and second largest number.\n",
        "          Ex- A list [1,2,3,4,5,5], withourt the number != first condition, the second-largest\n",
        "          would be incorrectly 5 instead of 4(the same as first largest number).\n",
        "          The condition 'number != first ' ensures that only distinct values\n",
        "          are considered for the second largest.\n",
        " Step 5: After the loop ends the function retrun second and it checks\n",
        "         if second is still -inf.\n",
        "  \"\"\"\n",
        "  if len(lst) < 2:\n",
        "    return None\n",
        "\n",
        "  first, second = float('-inf'), float('-inf')\n",
        "  for numbers in lst:\n",
        "    if numbers > first:\n",
        "      second = first\n",
        "      first = numbers\n",
        "\n",
        "    elif numbers > second and numbers !=first:\n",
        "      second = numbers\n",
        "\n",
        "  return second if second != float('-inf') else None\n",
        "\n",
        "lst = [1,2,3,4,4,4.5,4.5,5,5,5]\n",
        "print(second_largest_num(lst))\n"
      ],
      "metadata": {
        "colab": {
          "base_uri": "https://localhost:8080/"
        },
        "id": "ogCtea2DafUR",
        "outputId": "745cf57f-2c78-42ef-8318-b20042ec9b39"
      },
      "execution_count": 6,
      "outputs": [
        {
          "output_type": "stream",
          "name": "stdout",
          "text": [
            "4.5\n"
          ]
        }
      ]
    },
    {
      "cell_type": "code",
      "source": [
        "#Count occurrences of an Element\n",
        "def count_element(lst, element):\n",
        "  return lst.count(element)\n",
        "\n",
        "lst = [1,2,3,4,4,4.5,4.5,5,5,5]\n",
        "print(count_element(lst, 5))"
      ],
      "metadata": {
        "colab": {
          "base_uri": "https://localhost:8080/"
        },
        "id": "UXRwTfmh0DBM",
        "outputId": "df6d49a6-8aab-456f-ce74-05b42da0c0d0"
      },
      "execution_count": 11,
      "outputs": [
        {
          "output_type": "stream",
          "name": "stdout",
          "text": [
            "3\n"
          ]
        }
      ]
    },
    {
      "cell_type": "markdown",
      "source": [
        "\n",
        "The get() method in Python is a built-in function used with dictionaries. It allows you to retrieve the value associated with a specific key while providing a way to handle cases where the key might not exist in the dictionary. This can help prevent errors that would occur if you tried to access a key that doesn’t exist.\n",
        "\n",
        "dictionary.get(key, default_value)"
      ],
      "metadata": {
        "id": "H_fDYOcj51gX"
      }
    },
    {
      "cell_type": "code",
      "source": [
        "#Dictionary) to Count Occurrences\n",
        "def count_occurrences(lst, element):\n",
        "  \"\"\"\n",
        "  Step 1: Create an empty dictionary element_count to store the count\n",
        "  Step 2: Iterate through the list lst and count the occurrences of each element.\n",
        "  Step 3: If the item is already in the dictionary, increment its count by 1.\n",
        "  Step 4: If the item is not in the dictionary, it adds the item to the dictionary with a count of 1.\n",
        "  Step 5: Finally, the function returns the count of the specified element.\n",
        "  \"\"\"\n",
        "  element_count = {}\n",
        "  for item in lst:\n",
        "    if item in element_count:\n",
        "      element_count[item] += 1\n",
        "    else:\n",
        "      element_count[item] = 1\n",
        "  return element_count.get(element, 0)\n",
        "\n",
        "lst = [1, 2, 3, 4, 4, 4.5, 4.5, 5, 5, 5]\n",
        "element = 5\n",
        "print(count_occurrences(lst, element))\n",
        ""
      ],
      "metadata": {
        "colab": {
          "base_uri": "https://localhost:8080/"
        },
        "id": "-UfnEP_z0w4-",
        "outputId": "32fbafb1-b4e2-4d80-b7c6-cbebb847a6ad"
      },
      "execution_count": 16,
      "outputs": [
        {
          "output_type": "stream",
          "name": "stdout",
          "text": [
            "3\n"
          ]
        }
      ]
    },
    {
      "cell_type": "code",
      "source": [
        "#Find the common elements between two lists\n",
        "def common_elements(lst1, lst2):\n",
        "  #Sets only keep unique elements, so any duplicates within the lists would be removed.\n",
        "  return list(set(lst1) & set(lst2))\n",
        "\n",
        "lst1 = [1,2,3,4,5]\n",
        "lst2 = [3,4,5,6,7,9]\n",
        "print(common_elements(lst1, lst2))"
      ],
      "metadata": {
        "colab": {
          "base_uri": "https://localhost:8080/"
        },
        "id": "HULPfXZk42Ov",
        "outputId": "44338e2f-0bce-425d-9cae-cc6678186351"
      },
      "execution_count": 18,
      "outputs": [
        {
          "output_type": "stream",
          "name": "stdout",
          "text": [
            "[3, 4, 5]\n"
          ]
        }
      ]
    },
    {
      "cell_type": "code",
      "source": [
        "#Find the Index of an Element\n",
        "def find_index(lst, element):\n",
        "  \"\"\"\n",
        "  If the elemen is not found lst.index(element) will raise a valueError.\n",
        "  So when the element is not found and executes the elxe part, which returns -1 as a default value.\n",
        "  \"\"\"\n",
        "  return lst.index(element) if element in lst else -1\n",
        "\n",
        "# Test\n",
        "lst = [1, 2, 3, 4, 5]\n",
        "print(find_index(lst, 5))\n"
      ],
      "metadata": {
        "colab": {
          "base_uri": "https://localhost:8080/"
        },
        "id": "VqLPTXURD5zq",
        "outputId": "7e979ba0-a062-442e-efff-81665ef36a77"
      },
      "execution_count": 22,
      "outputs": [
        {
          "output_type": "stream",
          "name": "stdout",
          "text": [
            "4\n"
          ]
        }
      ]
    },
    {
      "cell_type": "code",
      "source": [],
      "metadata": {
        "id": "9Qt9OaZNVZoo"
      },
      "execution_count": null,
      "outputs": []
    }
  ]
}